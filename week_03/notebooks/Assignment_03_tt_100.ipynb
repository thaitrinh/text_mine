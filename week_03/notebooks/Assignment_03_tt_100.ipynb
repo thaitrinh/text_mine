{
 "cells": [
  {
   "cell_type": "markdown",
   "metadata": {},
   "source": [
    "---\n",
    "\n",
    "_You are currently looking at **version 1.1** of this notebook. To download notebooks and datafiles, as well as get help on Jupyter notebooks in the Coursera platform, visit the [Jupyter Notebook FAQ](https://www.coursera.org/learn/python-text-mining/resources/d9pwm) course resource._\n",
    "\n",
    "---"
   ]
  },
  {
   "cell_type": "markdown",
   "metadata": {},
   "source": [
    "# Assignment 3\n",
    "\n",
    "In this assignment you will explore text message data and create models to predict if a message is spam or not. "
   ]
  },
  {
   "cell_type": "code",
   "execution_count": 1,
   "metadata": {},
   "outputs": [
    {
     "data": {
      "text/html": [
       "<div>\n",
       "<style scoped>\n",
       "    .dataframe tbody tr th:only-of-type {\n",
       "        vertical-align: middle;\n",
       "    }\n",
       "\n",
       "    .dataframe tbody tr th {\n",
       "        vertical-align: top;\n",
       "    }\n",
       "\n",
       "    .dataframe thead th {\n",
       "        text-align: right;\n",
       "    }\n",
       "</style>\n",
       "<table border=\"1\" class=\"dataframe\">\n",
       "  <thead>\n",
       "    <tr style=\"text-align: right;\">\n",
       "      <th></th>\n",
       "      <th>text</th>\n",
       "      <th>target</th>\n",
       "    </tr>\n",
       "  </thead>\n",
       "  <tbody>\n",
       "    <tr>\n",
       "      <th>0</th>\n",
       "      <td>Go until jurong point, crazy.. Available only ...</td>\n",
       "      <td>0</td>\n",
       "    </tr>\n",
       "    <tr>\n",
       "      <th>1</th>\n",
       "      <td>Ok lar... Joking wif u oni...</td>\n",
       "      <td>0</td>\n",
       "    </tr>\n",
       "    <tr>\n",
       "      <th>2</th>\n",
       "      <td>Free entry in 2 a wkly comp to win FA Cup fina...</td>\n",
       "      <td>1</td>\n",
       "    </tr>\n",
       "    <tr>\n",
       "      <th>3</th>\n",
       "      <td>U dun say so early hor... U c already then say...</td>\n",
       "      <td>0</td>\n",
       "    </tr>\n",
       "    <tr>\n",
       "      <th>4</th>\n",
       "      <td>Nah I don't think he goes to usf, he lives aro...</td>\n",
       "      <td>0</td>\n",
       "    </tr>\n",
       "    <tr>\n",
       "      <th>5</th>\n",
       "      <td>FreeMsg Hey there darling it's been 3 week's n...</td>\n",
       "      <td>1</td>\n",
       "    </tr>\n",
       "    <tr>\n",
       "      <th>6</th>\n",
       "      <td>Even my brother is not like to speak with me. ...</td>\n",
       "      <td>0</td>\n",
       "    </tr>\n",
       "    <tr>\n",
       "      <th>7</th>\n",
       "      <td>As per your request 'Melle Melle (Oru Minnamin...</td>\n",
       "      <td>0</td>\n",
       "    </tr>\n",
       "    <tr>\n",
       "      <th>8</th>\n",
       "      <td>WINNER!! As a valued network customer you have...</td>\n",
       "      <td>1</td>\n",
       "    </tr>\n",
       "    <tr>\n",
       "      <th>9</th>\n",
       "      <td>Had your mobile 11 months or more? U R entitle...</td>\n",
       "      <td>1</td>\n",
       "    </tr>\n",
       "  </tbody>\n",
       "</table>\n",
       "</div>"
      ],
      "text/plain": [
       "                                                text  target\n",
       "0  Go until jurong point, crazy.. Available only ...       0\n",
       "1                      Ok lar... Joking wif u oni...       0\n",
       "2  Free entry in 2 a wkly comp to win FA Cup fina...       1\n",
       "3  U dun say so early hor... U c already then say...       0\n",
       "4  Nah I don't think he goes to usf, he lives aro...       0\n",
       "5  FreeMsg Hey there darling it's been 3 week's n...       1\n",
       "6  Even my brother is not like to speak with me. ...       0\n",
       "7  As per your request 'Melle Melle (Oru Minnamin...       0\n",
       "8  WINNER!! As a valued network customer you have...       1\n",
       "9  Had your mobile 11 months or more? U R entitle...       1"
      ]
     },
     "execution_count": 1,
     "metadata": {},
     "output_type": "execute_result"
    }
   ],
   "source": [
    "import pandas as pd\n",
    "import numpy as np\n",
    "\n",
    "# read in the data\n",
    "spam_data = pd.read_csv('spam.csv')\n",
    "\n",
    "# convert target to numeric\n",
    "spam_data['target'] = np.where(spam_data['target']=='spam',1,0)\n",
    "spam_data.head(10)"
   ]
  },
  {
   "cell_type": "code",
   "execution_count": 2,
   "metadata": {},
   "outputs": [],
   "source": [
    "from sklearn.model_selection import train_test_split\n",
    "\n",
    "# split data into train and test\n",
    "X_train, X_test, y_train, y_test = train_test_split(spam_data['text'], \n",
    "                                                    spam_data['target'], \n",
    "                                                    random_state=0)"
   ]
  },
  {
   "cell_type": "markdown",
   "metadata": {},
   "source": [
    "### Question 1\n",
    "What percentage of the documents in `spam_data` are spam?\n",
    "\n",
    "*This function should return a float, the percent value (i.e. $ratio * 100$).*"
   ]
  },
  {
   "cell_type": "code",
   "execution_count": 3,
   "metadata": {},
   "outputs": [],
   "source": [
    "def answer_one():\n",
    "    df_true = spam_data[spam_data[\"target\"]==1]\n",
    "    ans = float(len(df_true))/ len(spam_data) * 100\n",
    "    \n",
    "    return ans"
   ]
  },
  {
   "cell_type": "code",
   "execution_count": 4,
   "metadata": {},
   "outputs": [
    {
     "data": {
      "text/plain": [
       "13.406317300789663"
      ]
     },
     "execution_count": 4,
     "metadata": {},
     "output_type": "execute_result"
    }
   ],
   "source": [
    "answer_one()"
   ]
  },
  {
   "cell_type": "markdown",
   "metadata": {},
   "source": [
    "### Question 2\n",
    "\n",
    "Fit the training data `X_train` using a Count Vectorizer with default parameters.\n",
    "\n",
    "What is the longest token in the vocabulary?\n",
    "\n",
    "*This function should return a string.*"
   ]
  },
  {
   "cell_type": "code",
   "execution_count": 5,
   "metadata": {},
   "outputs": [],
   "source": [
    "from sklearn.feature_extraction.text import CountVectorizer\n",
    "\n",
    "def answer_two():\n",
    "    \n",
    "    vect = CountVectorizer().fit(X_train)\n",
    "    vocab = vect.get_feature_names()\n",
    "#     len_list = (len(x) for x in vocab)\n",
    "    longest = max(vocab, key=len)\n",
    "    \n",
    "    return longest"
   ]
  },
  {
   "cell_type": "code",
   "execution_count": 6,
   "metadata": {},
   "outputs": [
    {
     "data": {
      "text/plain": [
       "'com1win150ppmx3age16subscription'"
      ]
     },
     "execution_count": 6,
     "metadata": {},
     "output_type": "execute_result"
    }
   ],
   "source": [
    "answer_two()"
   ]
  },
  {
   "cell_type": "markdown",
   "metadata": {},
   "source": [
    "### Question 3\n",
    "\n",
    "Fit and transform the training data `X_train` using a Count Vectorizer with default parameters.\n",
    "\n",
    "Next, fit a fit a multinomial Naive Bayes classifier model with smoothing `alpha=0.1`. Find the area under the curve (AUC) score using the transformed test data.\n",
    "\n",
    "*This function should return the AUC score as a float.*"
   ]
  },
  {
   "cell_type": "code",
   "execution_count": 7,
   "metadata": {},
   "outputs": [],
   "source": [
    "from sklearn.feature_extraction.text import CountVectorizer\n",
    "from sklearn.naive_bayes import MultinomialNB\n",
    "from sklearn.metrics import roc_auc_score\n",
    "\n",
    "def answer_three():\n",
    "    \n",
    "    vect = CountVectorizer().fit(X_train)\n",
    "    X_train_vectorized = vect.transform(X_train)\n",
    "    clsf = MultinomialNB(alpha=0.1)\n",
    "    clsf.fit(X_train_vectorized, y_train)\n",
    "    predictions = clsf.predict(vect.transform(X_test))\n",
    "    \n",
    "    auc = roc_auc_score(y_test, predictions)\n",
    "    return auc"
   ]
  },
  {
   "cell_type": "code",
   "execution_count": 8,
   "metadata": {},
   "outputs": [
    {
     "data": {
      "text/plain": [
       "0.9720812182741116"
      ]
     },
     "execution_count": 8,
     "metadata": {},
     "output_type": "execute_result"
    }
   ],
   "source": [
    "answer_three()"
   ]
  },
  {
   "cell_type": "markdown",
   "metadata": {},
   "source": [
    "### Question 4\n",
    "\n",
    "Fit and transform the training data `X_train` using a Tfidf Vectorizer with default parameters.\n",
    "\n",
    "What 20 features have the smallest tf-idf and what 20 have the largest tf-idf?\n",
    "\n",
    "Put these features in a two series where each series is sorted by tf-idf value and then alphabetically by feature name. The index of the series should be the feature name, and the data should be the tf-idf.\n",
    "\n",
    "The series of 20 features with smallest tf-idfs should be sorted smallest tfidf first, the list of 20 features with largest tf-idfs should be sorted largest first. \n",
    "\n",
    "*This function should return a tuple of two series\n",
    "`(smallest tf-idfs series, largest tf-idfs series)`.*"
   ]
  },
  {
   "cell_type": "code",
   "execution_count": 9,
   "metadata": {},
   "outputs": [],
   "source": [
    "from sklearn.feature_extraction.text import TfidfVectorizer\n",
    "\n",
    "def answer_four():\n",
    "    \n",
    "    tfidf_vect = TfidfVectorizer().fit(X_train)\n",
    "    X_train_vectorized = tfidf_vect.transform(X_train)\n",
    "    # get feature names as array\n",
    "    feature_names = np.array(tfidf_vect.get_feature_names())\n",
    "    # get max tfidf for each word\n",
    "    tfidf_values = X_train_vectorized.max(0).toarray()[0]\n",
    "    #tfidf_values = tfidf_vect.idf_\n",
    "    sorted_tfidf_index = tfidf_values.argsort()\n",
    "    # smallest index\n",
    "    smallest_index = sorted_tfidf_index[:20]\n",
    "    # largest index\n",
    "    largest_index = sorted_tfidf_index[:-21:-1]\n",
    "    # smallest series\n",
    "    smallest_tfidfs = pd.Series(data=tfidf_values[smallest_index],\n",
    "                               index=feature_names[smallest_index])\n",
    "    # largest series\n",
    "    largest_tfidfs = pd.Series(data=tfidf_values[largest_index],\n",
    "                               index=feature_names[largest_index])\n",
    "\n",
    "    # now sort them carefully\n",
    "    small = smallest_tfidfs.iloc[np.lexsort([smallest_tfidfs.index, smallest_tfidfs.values])]\n",
    "    large = largest_tfidfs.iloc[np.lexsort([largest_tfidfs.index, largest_tfidfs.values])][::-1]    \n",
    "    \n",
    "    return (small, large)"
   ]
  },
  {
   "cell_type": "code",
   "execution_count": 10,
   "metadata": {},
   "outputs": [
    {
     "data": {
      "text/plain": [
       "(aaniye          0.074475\n",
       " athletic        0.074475\n",
       " chef            0.074475\n",
       " companion       0.074475\n",
       " courageous      0.074475\n",
       " dependable      0.074475\n",
       " determined      0.074475\n",
       " exterminator    0.074475\n",
       " healer          0.074475\n",
       " listener        0.074475\n",
       " organizer       0.074475\n",
       " pest            0.074475\n",
       " psychiatrist    0.074475\n",
       " psychologist    0.074475\n",
       " pudunga         0.074475\n",
       " stylist         0.074475\n",
       " sympathetic     0.074475\n",
       " venaam          0.074475\n",
       " diwali          0.091250\n",
       " mornings        0.091250\n",
       " dtype: float64, yup          1.000000\n",
       " where        1.000000\n",
       " too          1.000000\n",
       " thanx        1.000000\n",
       " thank        1.000000\n",
       " okie         1.000000\n",
       " ok           1.000000\n",
       " nite         1.000000\n",
       " lei          1.000000\n",
       " home         1.000000\n",
       " havent       1.000000\n",
       " er           1.000000\n",
       " done         1.000000\n",
       " beerage      1.000000\n",
       " anytime      1.000000\n",
       " anything     1.000000\n",
       " 645          1.000000\n",
       " 146tf150p    1.000000\n",
       " tick         0.980166\n",
       " blank        0.932702\n",
       " dtype: float64)"
      ]
     },
     "execution_count": 10,
     "metadata": {},
     "output_type": "execute_result"
    }
   ],
   "source": [
    "answer_four()"
   ]
  },
  {
   "cell_type": "markdown",
   "metadata": {},
   "source": [
    "### Question 5\n",
    "\n",
    "Fit and transform the training data `X_train` using a Tfidf Vectorizer ignoring terms that have a document frequency strictly lower than **3**.\n",
    "\n",
    "Then fit a multinomial Naive Bayes classifier model with smoothing `alpha=0.1` and compute the area under the curve (AUC) score using the transformed test data.\n",
    "\n",
    "*This function should return the AUC score as a float.*"
   ]
  },
  {
   "cell_type": "code",
   "execution_count": 11,
   "metadata": {},
   "outputs": [],
   "source": [
    "from sklearn.feature_extraction.text import TfidfVectorizer\n",
    "\n",
    "def answer_five():\n",
    "    vect = TfidfVectorizer(min_df=3).fit(X_train)\n",
    "    X_train_vectorized = vect.transform(X_train)    \n",
    "    model = MultinomialNB(alpha=0.1)\n",
    "    model.fit(X_train_vectorized, y_train)\n",
    "    predictions = model.predict(vect.transform(X_test))\n",
    "    \n",
    "    return roc_auc_score(y_test, predictions)"
   ]
  },
  {
   "cell_type": "code",
   "execution_count": 12,
   "metadata": {},
   "outputs": [
    {
     "data": {
      "text/plain": [
       "0.9416243654822335"
      ]
     },
     "execution_count": 12,
     "metadata": {},
     "output_type": "execute_result"
    }
   ],
   "source": [
    "answer_five()"
   ]
  },
  {
   "cell_type": "markdown",
   "metadata": {},
   "source": [
    "### Question 6\n",
    "\n",
    "What is the average length of documents (number of characters) for not spam and spam documents?\n",
    "\n",
    "*This function should return a tuple (average length not spam, average length spam).*"
   ]
  },
  {
   "cell_type": "code",
   "execution_count": 13,
   "metadata": {},
   "outputs": [],
   "source": [
    "def answer_six():\n",
    "    spam_dt = spam_data[spam_data['target']==1]\n",
    "    not_spam_dt = spam_data[spam_data['target']==0]\n",
    "    spam_len_avg = np.mean([len(x) for x in spam_dt[\"text\"].values])\n",
    "    not_spam_len_avg = np.mean([len(x) for x in not_spam_dt[\"text\"].values])\n",
    "    \n",
    "    return (not_spam_len_avg, spam_len_avg)"
   ]
  },
  {
   "cell_type": "code",
   "execution_count": 14,
   "metadata": {},
   "outputs": [
    {
     "data": {
      "text/plain": [
       "(71.02362694300518, 138.8661311914324)"
      ]
     },
     "execution_count": 14,
     "metadata": {},
     "output_type": "execute_result"
    }
   ],
   "source": [
    "answer_six()"
   ]
  },
  {
   "cell_type": "markdown",
   "metadata": {},
   "source": [
    "<br>\n",
    "<br>\n",
    "The following function has been provided to help you combine new features into the training data:"
   ]
  },
  {
   "cell_type": "code",
   "execution_count": 15,
   "metadata": {},
   "outputs": [],
   "source": [
    "def add_feature(X, feature_to_add):\n",
    "    \"\"\"\n",
    "    Returns sparse feature matrix with added feature.\n",
    "    feature_to_add can also be a list of features.\n",
    "    \"\"\"\n",
    "    from scipy.sparse import csr_matrix, hstack\n",
    "    return hstack([X, csr_matrix(feature_to_add).T], 'csr')"
   ]
  },
  {
   "cell_type": "markdown",
   "metadata": {},
   "source": [
    "### Question 7\n",
    "\n",
    "Fit and transform the training data X_train using a Tfidf Vectorizer ignoring terms that have a document frequency strictly lower than **5**.\n",
    "\n",
    "Using this document-term matrix and an additional feature, **the length of document (number of characters)**, fit a Support Vector Classification model with regularization `C=10000`. Then compute the area under the curve (AUC) score using the transformed test data.\n",
    "\n",
    "*This function should return the AUC score as a float.*"
   ]
  },
  {
   "cell_type": "code",
   "execution_count": 18,
   "metadata": {},
   "outputs": [],
   "source": [
    "from sklearn.svm import SVC\n",
    "\n",
    "def answer_seven():\n",
    "    vectorizer = TfidfVectorizer(min_df=5)\n",
    "\n",
    "    X_train_transformed = vectorizer.fit_transform(X_train)\n",
    "    X_train_transformed_with_length = add_feature(X_train_transformed, X_train.str.len())\n",
    "\n",
    "    X_test_transformed = vectorizer.transform(X_test)\n",
    "    X_test_transformed_with_length = add_feature(X_test_transformed, X_test.str.len())\n",
    "\n",
    "    clf = SVC(C=10000)\n",
    "\n",
    "    clf.fit(X_train_transformed_with_length, y_train)\n",
    "\n",
    "    y_predicted = clf.predict(X_test_transformed_with_length)    \n",
    "        \n",
    "    return roc_auc_score(y_test, y_predicted)"
   ]
  },
  {
   "cell_type": "code",
   "execution_count": 19,
   "metadata": {},
   "outputs": [
    {
     "data": {
      "text/plain": [
       "0.9581366823421557"
      ]
     },
     "execution_count": 19,
     "metadata": {},
     "output_type": "execute_result"
    }
   ],
   "source": [
    "answer_seven()"
   ]
  },
  {
   "cell_type": "markdown",
   "metadata": {},
   "source": [
    "### Question 8\n",
    "\n",
    "What is the average number of digits per document for not spam and spam documents?\n",
    "\n",
    "*This function should return a tuple (average # digits not spam, average # digits spam).*"
   ]
  },
  {
   "cell_type": "code",
   "execution_count": 30,
   "metadata": {},
   "outputs": [],
   "source": [
    "def answer_eight():\n",
    "\n",
    "    spam_dt = spam_data[spam_data['target']==1]\n",
    "    not_spam_dt = spam_data[spam_data['target']==0]\n",
    "    # find all digit in the text\n",
    "    digit_not_spam = not_spam_dt[\"text\"].str.findall(\"[0-9]\")\n",
    "    digit_spam = spam_dt[\"text\"].str.findall(\"[0-9]\")\n",
    "    # get average number\n",
    "    avg_num_digit_not_spam = np.mean([len(x) for x in digit_not_spam.values])\n",
    "    avg_num_digit_spam = np.mean([len(x) for x in digit_spam.values])\n",
    "    \n",
    "    return (avg_num_digit_not_spam, avg_num_digit_spam)"
   ]
  },
  {
   "cell_type": "code",
   "execution_count": 31,
   "metadata": {},
   "outputs": [
    {
     "data": {
      "text/plain": [
       "(0.2992746113989637, 15.759036144578314)"
      ]
     },
     "execution_count": 31,
     "metadata": {},
     "output_type": "execute_result"
    }
   ],
   "source": [
    "answer_eight()"
   ]
  },
  {
   "cell_type": "markdown",
   "metadata": {},
   "source": [
    "### Question 9\n",
    "\n",
    "Fit and transform the training data `X_train` using a Tfidf Vectorizer ignoring terms that have a document frequency strictly lower than **5** and using **word n-grams from n=1 to n=3** (unigrams, bigrams, and trigrams).\n",
    "\n",
    "Using this document-term matrix and the following additional features:\n",
    "* the length of document (number of characters)\n",
    "* **number of digits per document**\n",
    "\n",
    "fit a Logistic Regression model with regularization `C=100`. Then compute the area under the curve (AUC) score using the transformed test data.\n",
    "\n",
    "*This function should return the AUC score as a float.*"
   ]
  },
  {
   "cell_type": "code",
   "execution_count": 52,
   "metadata": {},
   "outputs": [],
   "source": [
    "from sklearn.linear_model import LogisticRegression\n",
    "\n",
    "def answer_nine():\n",
    "    vect = TfidfVectorizer(min_df=5, ngram_range=(1,3))\n",
    "    X_train_vectorized = vect.fit_transform(X_train)\n",
    "    X_test_vectorized = vect.transform(X_test)\n",
    "    # adding features for X_train\n",
    "    doc_len = X_train.str.len()\n",
    "    num_digit = [len(x) for x in X_train.str.findall(\"[0-9]\").values]\n",
    "    X_train_vect_with_len = add_feature(X_train_vectorized, doc_len)\n",
    "    X_train_final = add_feature(X_train_vect_with_len, num_digit)\n",
    "    # adding features for X_test\n",
    "    doc_len_test = X_test.str.len()\n",
    "    num_digit_test = [len(x) for x in X_test.str.findall(\"[0-9]\").values]\n",
    "    X_test_vect_with_len = add_feature(X_test_vectorized, doc_len_test)\n",
    "    X_test_final = add_feature(X_test_vect_with_len, num_digit_test)\n",
    "\n",
    "\n",
    "    clf = LogisticRegression(C=100)\n",
    "    clf.fit(X_train_final, y_train)\n",
    "    predictions = clf.predict(X_test_final)\n",
    "    \n",
    "    \n",
    "    return roc_auc_score(y_test, predictions)"
   ]
  },
  {
   "cell_type": "code",
   "execution_count": 53,
   "metadata": {},
   "outputs": [
    {
     "data": {
      "text/plain": [
       "0.9653328353394565"
      ]
     },
     "execution_count": 53,
     "metadata": {},
     "output_type": "execute_result"
    }
   ],
   "source": [
    "answer_nine()"
   ]
  },
  {
   "cell_type": "markdown",
   "metadata": {},
   "source": [
    "### Question 10\n",
    "\n",
    "What is the average number of non-word characters (anything other than a letter, digit or underscore) per document for not spam and spam documents?\n",
    "\n",
    "*Hint: Use `\\w` and `\\W` character classes*\n",
    "\n",
    "*This function should return a tuple (average # non-word characters not spam, average # non-word characters spam).*"
   ]
  },
  {
   "cell_type": "code",
   "execution_count": 54,
   "metadata": {},
   "outputs": [],
   "source": [
    "def answer_ten():\n",
    "\n",
    "    spam_dt = spam_data[spam_data['target']==1]\n",
    "    not_spam_dt = spam_data[spam_data['target']==0]\n",
    "    non_char_not_spam = [len(x) for x in not_spam_dt[\"text\"].str.findall(\"\\W\")]\n",
    "    non_char_spam = [len(x) for x in spam_dt[\"text\"].str.findall(\"\\W\")]\n",
    "    \n",
    "    return (np.mean(non_char_not_spam), np.mean(non_char_spam))"
   ]
  },
  {
   "cell_type": "code",
   "execution_count": 55,
   "metadata": {},
   "outputs": [
    {
     "data": {
      "text/plain": [
       "(17.29181347150259, 29.041499330655956)"
      ]
     },
     "execution_count": 55,
     "metadata": {},
     "output_type": "execute_result"
    }
   ],
   "source": [
    "answer_ten()"
   ]
  },
  {
   "cell_type": "markdown",
   "metadata": {},
   "source": [
    "### Question 11\n",
    "\n",
    "Fit and transform the training data X_train using a Count Vectorizer ignoring terms that have a document frequency strictly lower than **5** and using **character n-grams from n=2 to n=5.**\n",
    "\n",
    "To tell Count Vectorizer to use character n-grams pass in `analyzer='char_wb'` which creates character n-grams only from text inside word boundaries. This should make the model more robust to spelling mistakes.\n",
    "\n",
    "Using this document-term matrix and the following additional features:\n",
    "* the length of document (number of characters)\n",
    "* number of digits per document\n",
    "* **number of non-word characters (anything other than a letter, digit or underscore.)**\n",
    "\n",
    "fit a Logistic Regression model with regularization C=100. Then compute the area under the curve (AUC) score using the transformed test data.\n",
    "\n",
    "Also **find the 10 smallest and 10 largest coefficients from the model** and return them along with the AUC score in a tuple.\n",
    "\n",
    "The list of 10 smallest coefficients should be sorted smallest first, the list of 10 largest coefficients should be sorted largest first.\n",
    "\n",
    "The three features that were added to the document term matrix should have the following names should they appear in the list of coefficients:\n",
    "['length_of_doc', 'digit_count', 'non_word_char_count']\n",
    "\n",
    "*This function should return a tuple `(AUC score as a float, smallest coefs list, largest coefs list)`.*"
   ]
  },
  {
   "cell_type": "code",
   "execution_count": 87,
   "metadata": {},
   "outputs": [],
   "source": [
    "def answer_eleven():\n",
    "    vect = CountVectorizer(min_df=5, analyzer=\"char_wb\", ngram_range=(2,5))\n",
    "    X_train_vectorized = vect.fit_transform(X_train)\n",
    "    X_test_vectorized = vect.transform(X_test)\n",
    "    # adding features for X_train\n",
    "    doc_len = X_train.str.len()\n",
    "    num_digit = [len(x) for x in X_train.str.findall(\"[0-9]\").values]\n",
    "    non_word = [len(x) for x in X_train.str.findall(\"\\W\")]\n",
    "    X_train_vect_with_len = add_feature(X_train_vectorized, doc_len)\n",
    "    X_train_len_digit = add_feature(X_train_vect_with_len, num_digit)\n",
    "    X_train_final = add_feature(X_train_len_digit, non_word)\n",
    "\n",
    "    # adding features for X_test\n",
    "    doc_len_test = X_test.str.len()\n",
    "    num_digit_test = [len(x) for x in X_test.str.findall(\"[0-9]\").values]\n",
    "    non_word_test = [len(x) for x in X_test.str.findall(\"\\W\")]\n",
    "    X_test_vect_with_len = add_feature(X_test_vectorized, doc_len_test)\n",
    "    X_test_len_digit = add_feature(X_test_vect_with_len, num_digit_test)\n",
    "    X_test_final = add_feature(X_test_len_digit, non_word_test)\n",
    "\n",
    "    clf = LogisticRegression(C=100)\n",
    "    clf.fit(X_train_final, y_train)\n",
    "    predictions = clf.predict(X_test_final)\n",
    "    auc = roc_auc_score(y_test, predictions)\n",
    "    \n",
    "    # coefficients\n",
    "    coefs = clf.coef_[0]\n",
    "    sorted_index = coefs.argsort()\n",
    "    feature_names = np.array(vect.get_feature_names() +\n",
    "                             ['length_of_doc', 'digit_count', 'non_word_char_count'])\n",
    "    smallest_coef = coefs[sorted_index[:10]].tolist()\n",
    "    largest_coef = coefs[sorted_index[-11:-1][::-1]].tolist()\n",
    "    \n",
    "    \n",
    "    return (auc, smallest_coef, largest_coef)"
   ]
  },
  {
   "cell_type": "code",
   "execution_count": 88,
   "metadata": {},
   "outputs": [
    {
     "data": {
      "text/plain": [
       "(0.9788593110707434,\n",
       " [-0.8697858843712828,\n",
       "  -0.8608547785182948,\n",
       "  -0.6769230110354952,\n",
       "  -0.6670217717778228,\n",
       "  -0.6148739768660342,\n",
       "  -0.5795871210576163,\n",
       "  -0.5350672386161355,\n",
       "  -0.5057401022100805,\n",
       "  -0.49851416881046356,\n",
       "  -0.49093574270688567],\n",
       " [0.5977593003266424,\n",
       "  0.5415001012483578,\n",
       "  0.5387710472470398,\n",
       "  0.5214700395309074,\n",
       "  0.5203564270175837,\n",
       "  0.517863377170482,\n",
       "  0.5160830332501773,\n",
       "  0.5086677067950225,\n",
       "  0.5026548831862557,\n",
       "  0.47872837132677976])"
      ]
     },
     "execution_count": 88,
     "metadata": {},
     "output_type": "execute_result"
    }
   ],
   "source": [
    "answer_eleven()"
   ]
  },
  {
   "cell_type": "code",
   "execution_count": null,
   "metadata": {},
   "outputs": [],
   "source": []
  }
 ],
 "metadata": {
  "coursera": {
   "course_slug": "python-text-mining",
   "graded_item_id": "Pn19K",
   "launcher_item_id": "y1juS",
   "part_id": "ctlgo"
  },
  "kernelspec": {
   "display_name": "Python 3",
   "language": "python",
   "name": "python3"
  },
  "language_info": {
   "codemirror_mode": {
    "name": "ipython",
    "version": 3
   },
   "file_extension": ".py",
   "mimetype": "text/x-python",
   "name": "python",
   "nbconvert_exporter": "python",
   "pygments_lexer": "ipython3",
   "version": "3.6.5"
  }
 },
 "nbformat": 4,
 "nbformat_minor": 2
}
