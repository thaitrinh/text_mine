{
 "cells": [
  {
   "cell_type": "markdown",
   "metadata": {},
   "source": [
    "---\n",
    "\n",
    "_You are currently looking at **version 1.1** of this notebook. To download notebooks and datafiles, as well as get help on Jupyter notebooks in the Coursera platform, visit the [Jupyter Notebook FAQ](https://www.coursera.org/learn/python-text-mining/resources/d9pwm) course resource._\n",
    "\n",
    "---"
   ]
  },
  {
   "cell_type": "markdown",
   "metadata": {},
   "source": [
    "# Assignment 1\n",
    "\n",
    "In this assignment, you'll be working with messy medical data and using regex to extract relevant infromation from the data. \n",
    "\n",
    "Each line of the `dates.txt` file corresponds to a medical note. Each note has a date that needs to be extracted, but each date is encoded in one of many formats.\n",
    "\n",
    "The goal of this assignment is to correctly identify all of the different date variants encoded in this dataset and to properly normalize and sort the dates. \n",
    "\n",
    "Here is a list of some of the variants you might encounter in this dataset:\n",
    "* 04/20/2009; 04/20/09; 4/20/09; 4/3/09\n",
    "* Mar-20-2009; Mar 20, 2009; March 20, 2009;  Mar. 20, 2009; Mar 20 2009;\n",
    "* 20 Mar 2009; 20 March 2009; 20 Mar. 2009; 20 March, 2009\n",
    "* Mar 20th, 2009; Mar 21st, 2009; Mar 22nd, 2009\n",
    "* Feb 2009; Sep 2009; Oct 2010\n",
    "* 6/2008; 12/2009\n",
    "* 2009; 2010\n",
    "\n",
    "Once you have extracted these date patterns from the text, the next step is to sort them in ascending chronological order accoring to the following rules:\n",
    "* Assume all dates in xx/xx/xx format are mm/dd/yy\n",
    "* Assume all dates where year is encoded in only two digits are years from the 1900's (e.g. 1/5/89 is January 5th, 1989)\n",
    "* If the day is missing (e.g. 9/2009), assume it is the first day of the month (e.g. September 1, 2009).\n",
    "* If the month is missing (e.g. 2010), assume it is the first of January of that year (e.g. January 1, 2010).\n",
    "* Watch out for potential typos as this is a raw, real-life derived dataset.\n",
    "\n",
    "With these rules in mind, find the correct date in each note and return a pandas Series in chronological order of the original Series' indices.\n",
    "\n",
    "For example if the original series was this:\n",
    "\n",
    "    0    1999\n",
    "    1    2010\n",
    "    2    1978\n",
    "    3    2015\n",
    "    4    1985\n",
    "\n",
    "Your function should return this:\n",
    "\n",
    "    0    2\n",
    "    1    4\n",
    "    2    0\n",
    "    3    1\n",
    "    4    3\n",
    "\n",
    "Your score will be calculated using [Kendall's tau](https://en.wikipedia.org/wiki/Kendall_rank_correlation_coefficient), a correlation measure for ordinal data.\n",
    "\n",
    "*This function should return a Series of length 500 and dtype int.*"
   ]
  },
  {
   "cell_type": "code",
   "execution_count": 199,
   "metadata": {},
   "outputs": [],
   "source": [
    "import pandas as pd\n",
    "\n",
    "doc = []\n",
    "with open('dates.txt') as file:\n",
    "    for line in file:\n",
    "        doc.append(line)\n",
    "\n",
    "df = pd.Series(doc)\n",
    "# df.head(10)\n",
    "\n",
    "# print(len(df))\n",
    "\n",
    "# find all date in the format of / / or - - with only digits\n",
    "# find all date in the format with month in letter\n",
    "# advanced for the cases with st nd rd th\n",
    "# case without date, only month\n",
    "# case with only year"
   ]
  },
  {
   "cell_type": "code",
   "execution_count": 200,
   "metadata": {},
   "outputs": [
    {
     "name": "stdout",
     "output_type": "stream",
     "text": [
      "(125, 1)\n"
     ]
    }
   ],
   "source": [
    "#     simple regression: full month, day, year in digit\n",
    "exp = r'(?P<time>\\d{1,2}[/-]\\d{1,2}[/-]\\d{2,4})'\n",
    "df1 = df.str.extract(exp).dropna()\n",
    "print(df1.shape)    # (126, 3)\n",
    "# print(df1[100:150])\n",
    "#     in this way, only 126 from 500 rows can be extracted. Let's improved our experession\n",
    "# convert string to date time format\n",
    "time_01 = pd.to_datetime(df1.time)"
   ]
  },
  {
   "cell_type": "code",
   "execution_count": 201,
   "metadata": {},
   "outputs": [
    {
     "name": "stdout",
     "output_type": "stream",
     "text": [
      "375\n",
      "(69, 1)\n"
     ]
    }
   ],
   "source": [
    "df2 = df.drop(df1.index.tolist())\n",
    "print(len(df2))\n",
    "# full month, day, year but month is in 3 letters\n",
    "exp2 = r'(?P<time>\\d{1,2}[.\\s-](?:Jan|Feb|Mar|Apr|May|Jun|Jul|Aug|Sep|Oct|Nov|Dec])[a-z]*[.\\s-]\\d{2,4})'\n",
    "exp2 = r'(?P<time>\\d{1,2}(?:st|nd|rd)?[.\\s\\t-]*(?:Jan|Feb|Mar|Apr|May|Jun|Jul|Aug|Sep|Oct|Nov|Dec])[a-z]*[.\\s\\t-]*\\d{2,4})'\n",
    "df3a = df2.str.extract(exp2)\n",
    "# handling exceptions\n",
    "\"\"\"\n",
    "174    .On 04 Dec 1988 the patient was admitted to Fa...\n",
    "179    .On 10 Dec 1982, the first night after hospita...\n",
    "180    .On 09 Dec 1988 the patient was discharged hom\n",
    "\"\"\"\n",
    "df3a.loc[174] = '4 Dec 1988'\n",
    "df3a.loc[179] = '10 Dec 1982'\n",
    "df3a.loc[180] = '9 Dec 1988'\n",
    "df3 = df3a.dropna()\n",
    "# convert string to datetime format\n",
    "time_02 = pd.to_datetime(df3.time)\n",
    "\n",
    "print(df3.shape)   # (66, 1)\n",
    "df4 = df2.drop(df3.index.tolist())"
   ]
  },
  {
   "cell_type": "code",
   "execution_count": 202,
   "metadata": {},
   "outputs": [
    {
     "name": "stdout",
     "output_type": "stream",
     "text": [
      "(272,)\n"
     ]
    }
   ],
   "source": [
    "exp3 = r'(?P<time>(?:Jan|Feb|Mar|Apr|May|Jun|Jul|Aug|Sep|Oct|Nov|Dec])[a-z]*[.\\t-,]\\s*\\d{1,2}(?:st|nd|rd)?[.\\t-,]\\s*\\d{2,4})'\n",
    "df5a = df4.str.extract(exp3)\n",
    "# handling exception\n",
    "df5a.loc[201] = 'December 23, 1999'\n",
    "df5a.loc[219] = 'Dec 14 1975'\n",
    "df5 = df5a.dropna()\n",
    "# convert to time\n",
    "time_03 = pd.to_datetime(df5.time)\n",
    "# print(time_03)\n",
    "df6 = df4.drop(df5.index.tolist())\n",
    "print(df6.shape)"
   ]
  },
  {
   "cell_type": "code",
   "execution_count": 203,
   "metadata": {},
   "outputs": [
    {
     "name": "stdout",
     "output_type": "stream",
     "text": [
      "113\n",
      "159\n"
     ]
    }
   ],
   "source": [
    "# only month and year\n",
    "exp4 = r'(?P<time>(?:Jan|Feb|Mar|Apr|May|Jun|Jul|Aug|Sep|Oct|Nov|Dec])[a-z]*[.\\t-,]\\s*\\d{2,4})'\n",
    "df7a = df6.str.extract(exp4).dropna()\n",
    "df7a.loc[251] = 'Dec 1998'\n",
    "df7a.loc[268] = 'Dec 2009'\n",
    "df7a.loc[290] = 'Dec 2011'\n",
    "df7a.loc[301] = 'Dec 1992'\n",
    "df7a.loc[313] = 'Dec 1978'\n",
    "df7 = df7a.dropna()\n",
    "# handling exception Janaury\n",
    "df7['time'] = df7['time'].str.replace('Janaury', 'January', regex=True)\n",
    "print(len(df7))\n",
    "# convert to time, the missing day is automatically filled by 1st day of the month\n",
    "time_04 = pd.to_datetime(df7.time)\n",
    "\n",
    "df8 = df6.drop(df7.index.tolist())\n",
    "print(len(df8))"
   ]
  },
  {
   "cell_type": "code",
   "execution_count": 204,
   "metadata": {},
   "outputs": [
    {
     "name": "stdout",
     "output_type": "stream",
     "text": [
      "(47,)\n"
     ]
    }
   ],
   "source": [
    "# only month and year digit\n",
    "exp5 = r'(?P<time>\\d{1,2}[/-]\\s*\\d{2,4})'\n",
    "df9 = df8.str.extract(exp5).dropna()\n",
    "# convert to datetime\n",
    "time_05 = pd.to_datetime(df9.time)\n",
    "# remaining data\n",
    "df10 = df8.drop(df9.index.tolist())\n",
    "print(df10.shape)"
   ]
  },
  {
   "cell_type": "code",
   "execution_count": 221,
   "metadata": {},
   "outputs": [
    {
     "name": "stdout",
     "output_type": "stream",
     "text": [
      "(47, 1)\n"
     ]
    }
   ],
   "source": [
    "exp6 = r'(?P<time>\\d{4})'\n",
    "df11 = df10.str.extract(exp6).dropna()\n",
    "print(df11.shape)\n",
    "# convert to datetime\n",
    "time_06 = pd.to_datetime(df11.time)\n",
    "# print(time_06)"
   ]
  },
  {
   "cell_type": "code",
   "execution_count": 222,
   "metadata": {},
   "outputs": [
    {
     "name": "stdout",
     "output_type": "stream",
     "text": [
      "500\n"
     ]
    }
   ],
   "source": [
    "# merge all data frame\n",
    "df_list = [time_01, time_02, time_03, time_04, time_05, time_06]\n",
    "df_concat = pd.concat(df_list)\n",
    "print(len(df_concat))\n",
    "# since the len=500, it means I handled all exception"
   ]
  },
  {
   "cell_type": "code",
   "execution_count": 227,
   "metadata": {},
   "outputs": [
    {
     "name": "stdout",
     "output_type": "stream",
     "text": [
      "0        9\n",
      "1       84\n",
      "2        2\n",
      "3       53\n",
      "4       28\n",
      "5      474\n",
      "6      153\n",
      "7       13\n",
      "8      129\n",
      "9       98\n",
      "10     111\n",
      "11     225\n",
      "12      31\n",
      "13     171\n",
      "14     191\n",
      "15     486\n",
      "16     335\n",
      "17     415\n",
      "18      36\n",
      "19     405\n",
      "20     323\n",
      "21     422\n",
      "22     375\n",
      "23     380\n",
      "24     345\n",
      "25      57\n",
      "26     481\n",
      "27     436\n",
      "28     104\n",
      "29     299\n",
      "      ... \n",
      "470    220\n",
      "471    243\n",
      "472    208\n",
      "473    139\n",
      "474    320\n",
      "475    383\n",
      "476    244\n",
      "477    286\n",
      "478    480\n",
      "479    431\n",
      "480    279\n",
      "481    198\n",
      "482    381\n",
      "483    463\n",
      "484    366\n",
      "485    255\n",
      "486    439\n",
      "487    401\n",
      "488    475\n",
      "489    257\n",
      "490    152\n",
      "491    235\n",
      "492    464\n",
      "493    253\n",
      "494    231\n",
      "495    427\n",
      "496    141\n",
      "497    186\n",
      "498    161\n",
      "499    413\n",
      "Length: 500, dtype: int64\n"
     ]
    }
   ],
   "source": [
    "# sort the time\n",
    "df_sorted = df_concat.sort_values(0)\n",
    "# print(df_sorted[:50])\n",
    "# create series\n",
    "res = pd.Series(df_sorted.index.tolist())\n",
    "print(res)"
   ]
  },
  {
   "cell_type": "code",
   "execution_count": 207,
   "metadata": {},
   "outputs": [
    {
     "name": "stdout",
     "output_type": "stream",
     "text": [
      "s The patient is a 44 year old married Caucasian woman, unemployed Decorator, living with husband and caring for two young children, who is referred by Capitol Hill Hospital PCP, Dr. Heather Zubia, for urgent evaluation/treatment till first visit with Dr. Toney Winkler IN EIGHT WEEKS on 24 Jan 2001.\n",
      "\n"
     ]
    },
    {
     "data": {
      "text/plain": [
       "'answer'"
      ]
     },
     "execution_count": 207,
     "metadata": {},
     "output_type": "execute_result"
    }
   ],
   "source": [
    "def date_sorter():\n",
    "    \n",
    "    # note that df here is a series, not a data frame\n",
    "    \n",
    "    # length of each row\n",
    "    # print(df.str.len())\n",
    "    \n",
    "    # check if each row contains digit number\n",
    "    # note: .all() returns True if all element of the series are True\n",
    "    # print(df.str.contains(r\"\\d\").all())\n",
    "    \n",
    "    # count how many times the digits appear in each string\n",
    "    # print(df.str.count(r'\\d'))\n",
    "    \n",
    "\n",
    "    \n",
    "    # full month, day, year but month is in 3 letters\n",
    "    # exp2 = r'(?P<month>(?:Jan|Feb|Mar|Apr|May|Jun|Jul|Aug|Sep|Oct|Nov|Dec))[/-|\\s,.]+(?P<day>\\d{1,2})[/-|\\s,.](?P<year>\\d{2,4})'\n",
    "    # df2 = df.str.extractall(exp2)\n",
    "    # print(df2.shape)   # (175, 3)\n",
    "    # print(df2)\n",
    "\n",
    "    # full month, day, year but month is in letters, can be 3 or longer\n",
    "    #exp2 = r'(?P<month>(?:Jan|Feb|Mar|Apr|May|Jun|Jul|Aug|Sep|Oct|Nov|Dec)[a-z]*)[/-|\\s,.]+(?P<day>\\d{1,2})[/-|\\s,.](?P<year>\\d{2,4})'\n",
    "    #df2 = df.str.extractall(exp2)\n",
    "    #print(df2.shape)   # (175, 3)\n",
    "    #print(df2)\n",
    "    \n",
    "    print(df.loc[125,])\n",
    "    # add one more column with full information\n",
    "    #exp3 = r'(?P<full_info>(?P<month>(?:Jan|Feb|Mar|Apr|May|Jun|Jul|Aug|Sep|Oct|Nov|Dec)[a-z]*)[/-|\\s,.](?P<day>\\d{1,2})[/-|\\s,.](?P<year>\\d{2,4}))'\n",
    "    #df3 = df.str.extractall(exp3)\n",
    "    #print(df3.shape)   # (175, 3)\n",
    "    #print(df3)\n",
    "    \n",
    "    # day can be before or after month\n",
    "    #exp4 = r'((?:\\d{2} )?(?:Jan|Feb|Mar|Apr|May|Jun|Jul|Aug|Sep|Oct|Nov|Dec)[a-z]* (?:\\d{2}, )?\\d{2,4})'\n",
    "    #exp4 = r'((\\d{2}[/-|\\s,.])?(?:Jan|Feb|Mar|Apr|May|Jun|Jul|Aug|Sep|Oct|Nov|Dec)[a-z]*[/-|\\s,.](?:\\d{2}[/-|\\s,.])?(\\d{2,4}))'\n",
    "    #df4 = df.str.extractall(exp4)\n",
    "    #print(df4.shape)   # (175, 3)\n",
    "    #print(df4)\n",
    "    \n",
    "    # month before day\n",
    "#     exp2 = r'(?P<time>(?P<month>(?:Jan|Feb|Mar|Apr|May|Jun|Jul|Aug|Sep|Oct|Nov|Dec)[a-z]*[/-|\\s,.])(?P<day>\\d{1,2}[/|-|\\s,.])(?P<year>\\d{2,4}))'\n",
    "#     df2 = df.str.extractall(exp2)\n",
    "#     print(df2.shape)   # (5, 3)\n",
    "#     print(df2)    \n",
    "\n",
    "#     teststr = ['']\n",
    "\n",
    "#     # month after day\n",
    "#     exp3 = r'(?P<time>(?P<day>\\d{1,2}[/|-|\\s,.])(?P<month>(?:Jan|Feb|Mar|Apr|May|Jun|Jul|Aug|Sep|Oct|Nov|Dec)[a-z]*[/|-|\\s,.])(?P<year>\\d{2,4}))'\n",
    "#     df3 = df.str.extractall(exp3)\n",
    "#     print(df3.shape)   # (69, 3)\n",
    "#     print(df3)\n",
    "\n",
    "\n",
    "    \n",
    "    # only month and year\n",
    "\n",
    "\n",
    "    \n",
    "#     print(df.head())\n",
    "#     print(list(df))\n",
    "    return 'answer'\n",
    "\n",
    "date_sorter()"
   ]
  },
  {
   "cell_type": "code",
   "execution_count": null,
   "metadata": {},
   "outputs": [],
   "source": []
  },
  {
   "cell_type": "code",
   "execution_count": 3,
   "metadata": {},
   "outputs": [
    {
     "data": {
      "text/plain": [
       "370"
      ]
     },
     "execution_count": 3,
     "metadata": {},
     "output_type": "execute_result"
    }
   ],
   "source": [
    "175+ 126 + 69"
   ]
  },
  {
   "cell_type": "code",
   "execution_count": null,
   "metadata": {},
   "outputs": [],
   "source": []
  }
 ],
 "metadata": {
  "coursera": {
   "course_slug": "python-text-mining",
   "graded_item_id": "LvcWI",
   "launcher_item_id": "krne9",
   "part_id": "Mkp1I"
  },
  "kernelspec": {
   "display_name": "Python 3",
   "language": "python",
   "name": "python3"
  },
  "language_info": {
   "codemirror_mode": {
    "name": "ipython",
    "version": 3
   },
   "file_extension": ".py",
   "mimetype": "text/x-python",
   "name": "python",
   "nbconvert_exporter": "python",
   "pygments_lexer": "ipython3",
   "version": "3.6.5"
  }
 },
 "nbformat": 4,
 "nbformat_minor": 2
}
