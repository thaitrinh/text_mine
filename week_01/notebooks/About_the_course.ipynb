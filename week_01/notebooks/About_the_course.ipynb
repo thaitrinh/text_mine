{
 "cells": [
  {
   "cell_type": "markdown",
   "metadata": {},
   "source": [
    "# Text mining"
   ]
  },
  {
   "cell_type": "markdown",
   "metadata": {},
   "source": [
    "__About this course__: This course will introduce the learner to text mining and text manipulation basics. The course begins with an understanding of how text is handled by python, the structure of text both to the machine and to humans, and an overview of the nltk framework for manipulating text. The second week focuses on common manipulation needs, including regular expressions (searching for text), cleaning text, and preparing text for use by machine learning processes. The third week will apply basic natural language processing methods to text, and demonstrate how text classification is accomplished. The final week will explore more advanced methods for detecting the topics in documents and grouping them by similarity (topic modelling). \n",
    "\n",
    "This course should be taken after: Introduction to Data Science in Python, Applied Plotting, Charting & Data Representation in Python, and Applied Machine Learning in Python.\n",
    "\n",
    "__Who is this class for__: This course is part of “Applied Data Science with Python“ and is intended for learners who have basic python or programming background, and want to apply statistics, machine learning, information visualization, social network analysis, and text analysis techniques to gain new insight into data and/or a basic nltk tutorial. Only minimal statistics background is expected, and the first course contains a refresh of these basic concepts. There are no geographic restrictions. Learners with a formal training in Computer Science but without formal training in data science will still find the skills they acquire in these courses valuable in their studies and careers.\n",
    "\n",
    "__Taught by__:  V. G. Vinod Vydiswaran, Assistant Professor\n"
   ]
  },
  {
   "cell_type": "markdown",
   "metadata": {},
   "source": [
    "__Module 1: Working with Text in Python__\n",
    "\n",
    "5 videos, 4 readings, 1 practice quiz\n",
    "Reading: Course Syllabus\n",
    "Reading: Help us learn more about you!\n",
    "Video: Introduction to Text Mining\n",
    "Video: Handling Text in Python\n",
    "Reading: Notice for Auditing Learners: Assignment Submission\n",
    "Notebook: Working with Text\n",
    "Video: Regular Expressions\n",
    "Notebook: Regex with Pandas and Named Groups\n",
    "Video: Demonstration: Regex with Pandas and Named Groups\n",
    "Practice Quiz: Practice Quiz\n",
    "Video: Internationalization and Issues with Non-ASCII Characters\n",
    "Discussion Prompt: Introduce Yourself\n",
    "Reading: Resources: Common issues with free text\n",
    "Notebook: Assignment 1\n",
    "Show less\n",
    "\n",
    "Graded: Module 1 Quiz\n",
    "\n",
    "Graded: Assignment 1 Submission\n",
    "\n",
    "__Module 2: Basic Natural Language Processing__\n",
    "\n",
    "3 videos, 1 practice quiz\n",
    "Video: Basic Natural Language Processing\n",
    "Notebook: Module 2 (Python 3)\n",
    "Video: Basic NLP tasks with NLTK\n",
    "Video: Advanced NLP tasks with NLTK\n",
    "Practice Quiz: Practice Quiz\n",
    "Discussion Prompt: Finding your own prepositional phrase attachment\n",
    "Notebook: Assignment 2\n",
    "Show less\n",
    "\n",
    "Graded: Module 2 Quiz\n",
    "\n",
    "Graded: Assignment 2 Submission\n",
    "\n",
    "__Module 3: Classification of Text__\n",
    "\n",
    "7 videos\n",
    "Video: Text Classification\n",
    "Video: Identifying Features from Text\n",
    "Video: Naive Bayes Classifiers\n",
    "Video: Naive Bayes Variations\n",
    "Video: Support Vector Machines\n",
    "Video: Learning Text Classifiers in Python\n",
    "Notebook: Case Study - Sentiment Analysis\n",
    "Video: Demonstration: Case Study - Sentiment Analysis\n",
    "Notebook: Assignment 3\n",
    "Show less\n",
    "\n",
    "Graded: Module 3 Quiz\n",
    "\n",
    "Graded: Assignment 3 Submission\n",
    "\n",
    "__Module 4: Topic Modeling__\n",
    "\n",
    "4 videos, 2 readings, 1 practice quiz\n",
    "Video: Semantic Text Similarity\n",
    "Video: Topic Modeling\n",
    "Video: Generative Models and LDA\n",
    "Practice Quiz: Practice Quiz\n",
    "Video: Information Extraction\n",
    "Reading: Additional Resources & Readings\n",
    "Notebook: Assignment 4\n",
    "Reading: Post-Course Survey\n",
    "Show less\n",
    "\n",
    "Graded: Module 4 Quiz\n",
    "\n",
    "Graded: Assignment 4 Submission"
   ]
  },
  {
   "cell_type": "code",
   "execution_count": null,
   "metadata": {},
   "outputs": [],
   "source": []
  }
 ],
 "metadata": {
  "kernelspec": {
   "display_name": "Python 3",
   "language": "python",
   "name": "python3"
  },
  "language_info": {
   "codemirror_mode": {
    "name": "ipython",
    "version": 3
   },
   "file_extension": ".py",
   "mimetype": "text/x-python",
   "name": "python",
   "nbconvert_exporter": "python",
   "pygments_lexer": "ipython3",
   "version": "3.6.5"
  }
 },
 "nbformat": 4,
 "nbformat_minor": 2
}
